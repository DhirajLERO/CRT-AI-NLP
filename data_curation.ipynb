{
 "cells": [
  {
   "cell_type": "code",
   "execution_count": 44,
   "id": "initial_id",
   "metadata": {
    "collapsed": true,
    "ExecuteTime": {
     "end_time": "2024-06-05T20:37:49.593725Z",
     "start_time": "2024-06-05T20:37:49.592572Z"
    }
   },
   "outputs": [],
   "source": [
    "import pandas as pd\n",
    "import ast\n",
    "import matplotlib.pyplot as plt"
   ]
  },
  {
   "cell_type": "code",
   "outputs": [],
   "source": [
    "def find_non_offsets(string, offsets):\n",
    "    offsets.sort(key=lambda x: x[0])\n",
    "    \n",
    "    merged_offsets = []\n",
    "    for start, end in offsets:\n",
    "        if not merged_offsets or merged_offsets[-1][1] < start - 1:\n",
    "            merged_offsets.append((start, end))\n",
    "        else:\n",
    "            merged_offsets[-1] = (merged_offsets[-1][0], max(merged_offsets[-1][1], end))\n",
    "    \n",
    "    non_offsets = []\n",
    "    last_end = -1  \n",
    "    for start, end in merged_offsets:\n",
    "        if last_end + 1 < start:\n",
    "            non_offsets.append((last_end + 1, start - 1))\n",
    "        last_end = end\n",
    "    \n",
    "    if last_end + 1 < len(string):\n",
    "        non_offsets.append((last_end + 1, len(string) - 1))\n",
    "    \n",
    "    return non_offsets\n",
    "\n"
   ],
   "metadata": {
    "collapsed": false,
    "ExecuteTime": {
     "end_time": "2024-06-05T20:37:50.131476Z",
     "start_time": "2024-06-05T20:37:50.128762Z"
    }
   },
   "id": "2a628e9425c11a93",
   "execution_count": 46
  },
  {
   "cell_type": "code",
   "outputs": [],
   "source": [
    "\n",
    "def process_data(data: pd.DataFrame):\n",
    "    \n",
    "    post_id = []\n",
    "    subreddit_id = []\n",
    "    input_string = []\n",
    "    output_string_with_offset_list = []\n",
    "    output_string_with_sentence_list = []\n",
    "    data_distribution = {'per_exp': 0, 'claim_per_exp': 0, 'question': 0, 'claim' : 0, 'none' : 0 }\n",
    "    \n",
    "    data['cleaned_text'] = data['text'].str.replace('&#x200B;', '', regex=False)\n",
    "    \n",
    "    for  index, row in data.iterrows():\n",
    "        offset_list = []\n",
    "        x = ast.literal_eval(row['stage1_labels'])\n",
    "        dict_label = {'per_exp': [], 'claim_per_exp': [], 'question': [], 'claim' : [], 'none': []}\n",
    "        dict_label_sentence = {'per_exp': [], 'claim_per_exp': [], 'question': [], 'claim' : [], 'none': []}\n",
    "        # print(row['text'])\n",
    "        for label in x[0]['crowd-entity-annotation']['entities']:\n",
    "            s, e = label['startOffset'], label['endOffset']\n",
    "            if s!=0:\n",
    "                s = s -  1\n",
    "            offset_list.append((s, e))\n",
    "            if label['label'] == 'per_exp':\n",
    "                dict_label['per_exp'].append((s, e))\n",
    "                dict_label_sentence['per_exp'].append(row['cleaned_text'][s: e])\n",
    "                data_distribution['per_exp'] = data_distribution['per_exp'] + 1\n",
    "            elif label['label'] == 'claim_per_exp':\n",
    "                dict_label['claim_per_exp'].append((s, e))\n",
    "                dict_label_sentence['claim_per_exp'].append(row['cleaned_text'][s: e])\n",
    "                data_distribution['claim_per_exp'] = data_distribution['claim_per_exp'] + 1\n",
    "            elif label['label'] == 'question':\n",
    "                dict_label['question'].append((s, e))\n",
    "                dict_label_sentence['question'].append(row['cleaned_text'][s: e])\n",
    "                data_distribution['question'] = data_distribution['question'] + 1\n",
    "            else:\n",
    "                dict_label['claim'].append((s, e))\n",
    "                dict_label_sentence['claim'].append(row['cleaned_text'][s: e])\n",
    "                data_distribution['claim'] = data_distribution['claim'] + 1\n",
    "        \n",
    "        none_offset = find_non_offsets(row['cleaned_text'], offset_list)\n",
    "        dict_label['none'].extend(none_offset)\n",
    "        for non_off in none_offset:\n",
    "            dict_label_sentence['none'].append(row['cleaned_text'][non_off[0]: non_off[1]])\n",
    "        data_distribution['none'] = data_distribution['none'] + len(none_offset)\n",
    "        \n",
    "            \n",
    "        post_id.append(row['post_id'])\n",
    "        subreddit_id.append(row['subreddit_id'])\n",
    "        input_string.append(row['cleaned_text'])\n",
    "        output_string_with_offset_list.append(str(dict_label))\n",
    "        output_string_with_sentence_list.append(str(dict_label_sentence))\n",
    "        \n",
    "    df = pd.DataFrame({'post_id': post_id, 'subreddit_id': subreddit_id, 'text': input_string, 'output_with_offset': output_string_with_offset_list\\\n",
    "                       , 'output_with_sentence': output_string_with_sentence_list})\n",
    "    data_distribution_sorted = dict(sorted(data_distribution.items(), key=lambda item: item[1]))\n",
    "    return df,  data_distribution_sorted\n",
    "\n",
    "\n"
   ],
   "metadata": {
    "collapsed": false,
    "ExecuteTime": {
     "end_time": "2024-06-05T20:50:24.675008Z",
     "start_time": "2024-06-05T20:50:24.669455Z"
    }
   },
   "id": "2bc433d1fdf1fb3d",
   "execution_count": 65
  },
  {
   "cell_type": "code",
   "outputs": [],
   "source": [
    "df  = pd.read_csv('st1_train_inc_text.csv')\n",
    "df_processed,  data_distribution = process_data(df)\n",
    "df_processed.to_csv('ST1_data_processed_train.csv', index=False)"
   ],
   "metadata": {
    "collapsed": false,
    "ExecuteTime": {
     "end_time": "2024-06-05T20:53:30.400837Z",
     "start_time": "2024-06-05T20:53:29.988089Z"
    }
   },
   "id": "c7a274940eef4950",
   "execution_count": 70
  },
  {
   "cell_type": "code",
   "outputs": [
    {
     "data": {
      "text/plain": "<Figure size 640x480 with 1 Axes>",
      "image/png": "[encoded data removed]"
     },
     "metadata": {},
     "output_type": "display_data"
    }
   ],
   "source": [
    "plt.bar(*zip(*data_distribution.items()))\n",
    "plt.show()"
   ],
   "metadata": {
    "collapsed": false,
    "ExecuteTime": {
     "end_time": "2024-06-05T20:53:32.933578Z",
     "start_time": "2024-06-05T20:53:32.899428Z"
    }
   },
   "id": "a398ca3d31e40a12",
   "execution_count": 71
  },
  {
   "cell_type": "code",
   "outputs": [],
   "source": [
    "df_test  = pd.read_csv('st1_test_inc_text.csv')\n",
    "df_test['cleaned_text'] = df_test['text'].str.replace('&#x200B;', '', regex=False)\n",
    "df_test.to_csv('ST1_data_processed_test.csv')\n"
   ],
   "metadata": {
    "collapsed": false,
    "ExecuteTime": {
     "end_time": "2024-06-05T20:56:16.802057Z",
     "start_time": "2024-06-05T20:56:16.770067Z"
    }
   },
   "id": "d3937dd82e5047b2",
   "execution_count": 73
  },
  {
   "cell_type": "code",
   "outputs": [],
   "source": [],
   "metadata": {
    "collapsed": false
   },
   "id": "de0baa1341a789a6"
  }
 ],
 "metadata": {
  "kernelspec": {
   "display_name": "Python 3",
   "language": "python",
   "name": "python3"
  },
  "language_info": {
   "codemirror_mode": {
    "name": "ipython",
    "version": 2
   },
   "file_extension": ".py",
   "mimetype": "text/x-python",
   "name": "python",
   "nbconvert_exporter": "python",
   "pygments_lexer": "ipython2",
   "version": "2.7.6"
  }
 },
 "nbformat": 4,
 "nbformat_minor": 5
}
